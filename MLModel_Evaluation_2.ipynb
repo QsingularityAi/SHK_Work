{
 "cells": [
  {
   "cell_type": "markdown",
   "metadata": {},
   "source": [
    "### Model Evaluation -- Algorithm Comparison (Nested Cross-Validation) with StratifiedKFold\n"
   ]
  },
  {
   "cell_type": "code",
   "execution_count": 1,
   "metadata": {},
   "outputs": [],
   "source": [
    "import numpy as np\n",
    "from sklearn.model_selection import GridSearchCV\n",
    "from sklearn.model_selection import train_test_split\n",
    "from sklearn.model_selection import StratifiedKFold, KFold\n",
    "from sklearn.model_selection import cross_val_score\n",
    "\n",
    "from sklearn.neighbors import KNeighborsClassifier\n",
    "from sklearn.tree import DecisionTreeClassifier\n",
    "from sklearn.ensemble import RandomForestClassifier\n",
    "from sklearn.svm import SVC\n",
    "from sklearn.metrics import accuracy_score\n",
    "from sklearn.ensemble import GradientBoostingClassifier\n",
    "\n",
    "import pandas as pd\n",
    "\n"
   ]
  },
  {
   "cell_type": "code",
   "execution_count": 2,
   "metadata": {},
   "outputs": [],
   "source": [
    "import warnings\n",
    "warnings.filterwarnings('ignore')"
   ]
  },
  {
   "cell_type": "code",
   "execution_count": 3,
   "metadata": {},
   "outputs": [],
   "source": [
    "from sklearn.datasets import make_gaussian_quantiles"
   ]
  },
  {
   "cell_type": "code",
   "execution_count": 4,
   "metadata": {},
   "outputs": [],
   "source": [
    "X_1, y_1 = make_gaussian_quantiles(n_samples= 100,\n",
    "                                 n_features=2,\n",
    "                                 n_classes=2,\n",
    "                                 )\n",
    "\n",
    "# transform the dataset\n",
    "from imblearn.over_sampling import RandomOverSampler\n",
    "ros = RandomOverSampler(random_state=1)\n",
    "X1, y1 = ros.fit_resample(X_1, y_1)\n",
    "\n",
    "\n",
    "\n",
    "X1 = pd.DataFrame(X1,columns=['x','y'])\n",
    "y1 = pd.Series(y1)"
   ]
  },
  {
   "cell_type": "code",
   "execution_count": 5,
   "metadata": {},
   "outputs": [],
   "source": [
    "X_train,X_test,y_train,y_test=train_test_split(X1,y1,\n",
    "                                              test_size=0.25,\n",
    "                                              random_state=1)"
   ]
  },
  {
   "cell_type": "code",
   "execution_count": 6,
   "metadata": {},
   "outputs": [],
   "source": [
    "\n",
    "model1 = GradientBoostingClassifier(\n",
    "    max_depth=2,\n",
    "    n_estimators=3,\n",
    "    learning_rate=1.0\n",
    ")\n",
    "model2 = KNeighborsClassifier(n_neighbors=5)\n",
    "model3 = DecisionTreeClassifier()\n",
    "model4 = SVC(kernel= \"rbf\")\n",
    "model5  = RandomForestClassifier(random_state=1)"
   ]
  },
  {
   "cell_type": "code",
   "execution_count": 7,
   "metadata": {},
   "outputs": [],
   "source": [
    "# Setting up the parameter grids\n",
    "opti_param_grid1 = {'n_estimators':[100, 500],\n",
    "                     'max_depth': [1, 2, 3]}\n",
    "\n",
    "\n",
    "opti_param_grid2 = {'n_neighbors': list(range(1, 10)),\n",
    "                     'p': [1, 2]}\n",
    "\n",
    "opti_param_grid3 = {'max_depth': list(range(1, 10)) + [None],\n",
    "                    'criterion': ['gini', 'entropy']}\n",
    "\n",
    "opti_param_grid4 = {'C': [0.01, 0.1, 1, 10, 100],\n",
    "                    'gamma': [0.01, 0.1, 1, 10, 100]}\n",
    "               \n",
    "\n",
    "opti_param_grid5 = {'n_estimators': [10, 100, 500, 1000, 10000]}"
   ]
  },
  {
   "cell_type": "code",
   "execution_count": 8,
   "metadata": {},
   "outputs": [],
   "source": [
    "# Setting up multiple GridSearchCV objects, 1 for each algorithm\n",
    "gridcvs = {}\n",
    "inner_cv = StratifiedKFold(n_splits=2, shuffle=True, random_state=1)\n",
    "\n",
    "for pgrid, est, name in zip(( opti_param_grid1, opti_param_grid2,\n",
    "                             opti_param_grid3, opti_param_grid4,opti_param_grid5),\n",
    "                            (model1, model2, model3, model4, model5),\n",
    "                            ('GBC', 'KNN', 'DTree', 'SVM', 'RForest')):\n",
    "    gcv = GridSearchCV(estimator=est,\n",
    "                       param_grid=pgrid,\n",
    "                       scoring='accuracy',\n",
    "                       n_jobs=-1,\n",
    "                       cv=inner_cv,\n",
    "                       verbose=0,\n",
    "                       refit=True)\n",
    "    gridcvs[name] = gcv"
   ]
  },
  {
   "cell_type": "code",
   "execution_count": 9,
   "metadata": {},
   "outputs": [
    {
     "name": "stdout",
     "output_type": "stream",
     "text": [
      "DTree | outer ACC 84.00% +/- 9.98\n",
      "GBC | outer ACC 92.00% +/- 6.53\n",
      "KNN | outer ACC 92.00% +/- 6.53\n",
      "RForest | outer ACC 92.00% +/- 2.67\n",
      "SVM | outer ACC 96.00% +/- 3.27\n"
     ]
    }
   ],
   "source": [
    "outer_cv = StratifiedKFold(n_splits=5, shuffle=True, random_state=1)\n",
    "\n",
    "\n",
    "for name, gs_est in sorted(gridcvs.items()):\n",
    "    nested_score = cross_val_score(gs_est, \n",
    "                                   X=X_train, \n",
    "                                   y=y_train, \n",
    "                                   cv=outer_cv,\n",
    "                                   n_jobs=-1)\n",
    "    print('%s | outer ACC %.2f%% +/- %.2f' % \n",
    "          (name, nested_score.mean() * 100, nested_score.std() * 100))"
   ]
  },
  {
   "cell_type": "code",
   "execution_count": 10,
   "metadata": {},
   "outputs": [
    {
     "name": "stdout",
     "output_type": "stream",
     "text": [
      "Fitting 2 folds for each of 25 candidates, totalling 50 fits\n"
     ]
    },
    {
     "data": {
      "text/plain": [
       "GridSearchCV(cv=StratifiedKFold(n_splits=2, random_state=1, shuffle=True),\n",
       "             estimator=SVC(), n_jobs=-1,\n",
       "             param_grid={'C': [0.01, 0.1, 1, 10, 100],\n",
       "                         'gamma': [0.01, 0.1, 1, 10, 100]},\n",
       "             scoring='accuracy', verbose=1)"
      ]
     },
     "execution_count": 10,
     "metadata": {},
     "output_type": "execute_result"
    }
   ],
   "source": [
    "gcv_model_select = GridSearchCV(estimator=model4,\n",
    "                                param_grid=opti_param_grid4,\n",
    "                                scoring='accuracy',\n",
    "                                n_jobs=-1,\n",
    "                                cv=inner_cv,\n",
    "                                verbose=1,\n",
    "                                refit=True)\n",
    "\n",
    "gcv_model_select.fit(X_train, y_train)"
   ]
  },
  {
   "cell_type": "code",
   "execution_count": 11,
   "metadata": {},
   "outputs": [
    {
     "name": "stdout",
     "output_type": "stream",
     "text": [
      "Accuracy 97.33% (average over k-fold CV test folds)\n",
      "Best Parameters: {'C': 100, 'gamma': 1}\n",
      "Training Accuracy: 100.00%\n",
      "Test Accuracy: 88.00%\n"
     ]
    }
   ],
   "source": [
    "best_model = gcv_model_select.best_estimator_\n",
    "\n",
    "\n",
    "## We can skip the next step because we set refit=True\n",
    "## so scikit-learn has already fit the model to the\n",
    "## whole training set\n",
    "\n",
    "# best_model.fit(X_train, y_train)\n",
    "\n",
    "\n",
    "train_acc = accuracy_score(y_true=y_train, y_pred=best_model.predict(X_train))\n",
    "test_acc = accuracy_score(y_true=y_test, y_pred=best_model.predict(X_test))\n",
    "\n",
    "print('Accuracy %.2f%% (average over k-fold CV test folds)' %\n",
    "      (100 * gcv_model_select.best_score_))\n",
    "print('Best Parameters: %s' % gcv_model_select.best_params_)\n",
    "\n",
    "print('Training Accuracy: %.2f%%' % (100 * train_acc))\n",
    "print('Test Accuracy: %.2f%%' % (100 * test_acc))"
   ]
  },
  {
   "cell_type": "code",
   "execution_count": 12,
   "metadata": {},
   "outputs": [],
   "source": [
    "from sklearn.model_selection import RandomizedSearchCV"
   ]
  },
  {
   "cell_type": "code",
   "execution_count": 13,
   "metadata": {},
   "outputs": [],
   "source": [
    "randomizedscvs = {}\n",
    "inner_cv = StratifiedKFold(n_splits=10, shuffle=True, random_state=1)\n",
    "\n",
    "for pgrid, est, name in zip(( opti_param_grid1, opti_param_grid2,\n",
    "                             opti_param_grid3, opti_param_grid4, opti_param_grid5),\n",
    "                            (model1, model2, model3, model4, model5),\n",
    "                            ('GBC', 'KNN', 'DTree', 'SVM', 'RForest')):\n",
    "    rcv = RandomizedSearchCV(estimator=est,\n",
    "                       param_distributions=pgrid,\n",
    "                       scoring='accuracy',\n",
    "                       n_jobs=-1,\n",
    "                       cv=inner_cv,\n",
    "                       verbose=0,\n",
    "                       refit=True,\n",
    "                       n_iter=5)\n",
    "    randomizedscvs[name] = rcv"
   ]
  },
  {
   "cell_type": "code",
   "execution_count": 14,
   "metadata": {},
   "outputs": [
    {
     "name": "stdout",
     "output_type": "stream",
     "text": [
      "DTree | outer ACC 92.14% +/- 6.45\n",
      "GBC | outer ACC 90.71% +/- 8.29\n",
      "KNN | outer ACC 90.36% +/- 9.01\n",
      "RForest | outer ACC 94.82% +/- 6.36\n",
      "SVM | outer ACC 94.64% +/- 6.59\n"
     ]
    }
   ],
   "source": [
    "outer_cv = StratifiedKFold(n_splits=10, shuffle=True, random_state=1)\n",
    "\n",
    "\n",
    "for name, rs_est in sorted(randomizedscvs.items()):\n",
    "    nested_score = cross_val_score(rs_est, \n",
    "                                   X=X_train, \n",
    "                                   y=y_train, \n",
    "                                   cv=outer_cv,\n",
    "                                   n_jobs=-1)\n",
    "    print('%s | outer ACC %.2f%% +/- %.2f' % \n",
    "          (name, nested_score.mean() * 100, nested_score.std() * 100))"
   ]
  },
  {
   "cell_type": "code",
   "execution_count": 15,
   "metadata": {},
   "outputs": [
    {
     "name": "stdout",
     "output_type": "stream",
     "text": [
      "Fitting 10 folds for each of 5 candidates, totalling 50 fits\n"
     ]
    },
    {
     "data": {
      "text/plain": [
       "RandomizedSearchCV(cv=StratifiedKFold(n_splits=10, random_state=1, shuffle=True),\n",
       "                   estimator=RandomForestClassifier(random_state=1), n_jobs=-1,\n",
       "                   param_distributions={'n_estimators': [10, 100, 500, 1000,\n",
       "                                                         10000]},\n",
       "                   scoring='accuracy', verbose=1)"
      ]
     },
     "execution_count": 15,
     "metadata": {},
     "output_type": "execute_result"
    }
   ],
   "source": [
    "rcv_model_select = RandomizedSearchCV(estimator=model5,\n",
    "                                param_distributions=opti_param_grid5,\n",
    "                                scoring='accuracy',\n",
    "                                n_jobs=-1,\n",
    "                                cv=inner_cv,\n",
    "                                verbose=1,\n",
    "                                refit=True)\n",
    "\n",
    "rcv_model_select.fit(X_train, y_train)"
   ]
  },
  {
   "cell_type": "code",
   "execution_count": 16,
   "metadata": {},
   "outputs": [
    {
     "name": "stdout",
     "output_type": "stream",
     "text": [
      "Accuracy 96.07% (average over k-fold CV test folds)\n",
      "Best Parameters: {'n_estimators': 500}\n",
      "Training Accuracy: 100.00%\n",
      "Test Accuracy: 76.00%\n"
     ]
    }
   ],
   "source": [
    "best_model2 = rcv_model_select.best_estimator_\n",
    "\n",
    "\n",
    "## We can skip the next step because we set refit=True\n",
    "## so scikit-learn has already fit the model to the\n",
    "## whole training set\n",
    "\n",
    "# best_model2.fit(X_train, y_train)\n",
    "\n",
    "\n",
    "train_acc2 = accuracy_score(y_true=y_train, y_pred=best_model2.predict(X_train))\n",
    "test_acc2 = accuracy_score(y_true=y_test, y_pred=best_model2.predict(X_test))\n",
    "\n",
    "print('Accuracy %.2f%% (average over k-fold CV test folds)' %\n",
    "      (100 * rcv_model_select.best_score_))\n",
    "print('Best Parameters: %s' % rcv_model_select.best_params_)\n",
    "\n",
    "print('Training Accuracy: %.2f%%' % (100 * train_acc2))\n",
    "print('Test Accuracy: %.2f%%' % (100 * test_acc2))"
   ]
  },
  {
   "cell_type": "markdown",
   "metadata": {},
   "source": [
    "### ROC and AUC For ML Models"
   ]
  },
  {
   "cell_type": "code",
   "execution_count": 17,
   "metadata": {},
   "outputs": [],
   "source": [
    "%matplotlib inline"
   ]
  },
  {
   "cell_type": "code",
   "execution_count": 18,
   "metadata": {},
   "outputs": [],
   "source": [
    "from sklearn.linear_model import LogisticRegression\n",
    "import numpy as np\n",
    "import pandas as pd\n",
    "import matplotlib.pyplot as plt\n",
    "from matplotlib import rcParams\n",
    "rcParams['axes.spines.top'] = False\n",
    "rcParams['axes.spines.right'] = False\n",
    "from sklearn.metrics import roc_auc_score, roc_curve\n"
   ]
  },
  {
   "cell_type": "code",
   "execution_count": 19,
   "metadata": {},
   "outputs": [],
   "source": [
    "model_lr = LogisticRegression().fit(X_train, y_train)\n",
    "probs_lr = model_lr.predict_proba(X_test)[:, 1]\n",
    "\n",
    "model_dt = DecisionTreeClassifier().fit(X_train, y_train)\n",
    "probs_dt = model_dt.predict_proba(X_test)[:, 1]\n",
    "\n",
    "model_rf = RandomForestClassifier().fit(X_train, y_train)\n",
    "probs_rf = model_rf.predict_proba(X_test)[:, 1]\n",
    "\n",
    "model_gb =  GradientBoostingClassifier().fit(X_train, y_train)\n",
    "probs_gb = model_gb.predict_proba(X_test)[:, 1]\n",
    "\n",
    "model_KNN =  KNeighborsClassifier().fit(X_train, y_train)\n",
    "probs_KNN = model_KNN.predict_proba(X_test)[:, 1]\n",
    "\n",
    "model = SVC(probability=True)\n",
    "model_SVC = model.fit(X_train, y_train)\n",
    "probs_SVC = model_SVC.predict_proba(X_test)[:, 1]"
   ]
  },
  {
   "cell_type": "code",
   "execution_count": 20,
   "metadata": {},
   "outputs": [],
   "source": [
    "y_test_int = y_test.replace({'Good': 1, 'Bad': 0})\n",
    "auc_lr = roc_auc_score(y_test_int, probs_lr)\n",
    "fpr_lr, tpr_lr, thresholds_lr = roc_curve(y_test_int, probs_lr)\n"
   ]
  },
  {
   "cell_type": "code",
   "execution_count": 21,
   "metadata": {},
   "outputs": [],
   "source": [
    "auc_dt = roc_auc_score(y_test_int, probs_dt)\n",
    "fpr_dt, tpr_dt, thresholds_dt = roc_curve(y_test_int, probs_dt)\n"
   ]
  },
  {
   "cell_type": "code",
   "execution_count": 22,
   "metadata": {},
   "outputs": [],
   "source": [
    "auc_rf = roc_auc_score(y_test_int, probs_rf)\n",
    "fpr_rf, tpr_rf, thresholds_rf = roc_curve(y_test_int, probs_rf)\n"
   ]
  },
  {
   "cell_type": "code",
   "execution_count": 24,
   "metadata": {},
   "outputs": [],
   "source": [
    "auc_gb = roc_auc_score(y_test_int, probs_gb)\n",
    "fpr_gb, tpr_gb, thresholds_gb = roc_curve(y_test_int, probs_gb)\n"
   ]
  },
  {
   "cell_type": "code",
   "execution_count": 25,
   "metadata": {},
   "outputs": [],
   "source": [
    "auc_KNN = roc_auc_score(y_test_int, probs_KNN)\n",
    "fpr_KNN, tpr_KNN, thresholds_KNN = roc_curve(y_test_int, probs_KNN)\n"
   ]
  },
  {
   "cell_type": "code",
   "execution_count": 26,
   "metadata": {},
   "outputs": [],
   "source": [
    "auc_SVC = roc_auc_score(y_test_int, probs_SVC)\n",
    "fpr_SVC, tpr_SVC, thresholds_SVC = roc_curve(y_test_int, probs_SVC)"
   ]
  },
  {
   "cell_type": "code",
   "execution_count": 27,
   "metadata": {},
   "outputs": [
    {
     "data": {
      "text/plain": [
       "<matplotlib.legend.Legend at 0x7fe389e19280>"
      ]
     },
     "execution_count": 27,
     "metadata": {},
     "output_type": "execute_result"
    },
    {
     "data": {
      "image/png": "[encoded data removed]",
      "text/plain": [
       "<Figure size 1296x1080 with 1 Axes>"
      ]
     },
     "metadata": {
      "needs_background": "light"
     },
     "output_type": "display_data"
    }
   ],
   "source": [
    "\n",
    "plt.figure(figsize=(18, 15))\n",
    "plt.plot(fpr_lr, tpr_lr, label=f'AUC (Logistic Regression) = {auc_lr:.2f}')\n",
    "plt.plot(fpr_dt, tpr_dt, label=f'AUC (Decision Tree) = {auc_dt:.2f}')\n",
    "plt.plot(fpr_rf, tpr_rf, label=f'AUC (Random Forests) = {auc_rf:.2f}')\n",
    "plt.plot(fpr_gb, tpr_gb, label=f'AUC (Gradient Boosting) = {auc_gb:.2f}')\n",
    "plt.plot(fpr_KNN, tpr_KNN, label=f'AUC (KNeighbors) = {auc_KNN:.2f}')\n",
    "plt.plot(fpr_SVC, tpr_SVC, label=f'AUC (SVM) = {auc_SVC:.2f}')\n",
    "\n",
    "\n",
    "plt.plot([0, 1], [0, 1], color='blue', linestyle='--', label='Baseline')\n",
    "plt.title('ROC Curve', size=20)\n",
    "plt.xlabel('False Positive Rate', size=15)\n",
    "plt.ylabel('True Positive Rate', size=15)\n",
    "plt.legend()"
   ]
  }
 ],
 "metadata": {
  "interpreter": {
   "hash": "40d3a090f54c6569ab1632332b64b2c03c39dcf918b08424e98f38b5ae0af88f"
  },
  "kernelspec": {
   "display_name": "Python 3.9.7 ('base')",
   "language": "python",
   "name": "python3"
  },
  "language_info": {
   "codemirror_mode": {
    "name": "ipython",
    "version": 3
   },
   "file_extension": ".py",
   "mimetype": "text/x-python",
   "name": "python",
   "nbconvert_exporter": "python",
   "pygments_lexer": "ipython3",
   "version": "3.9.7"
  },
  "orig_nbformat": 4
 },
 "nbformat": 4,
 "nbformat_minor": 2
}
