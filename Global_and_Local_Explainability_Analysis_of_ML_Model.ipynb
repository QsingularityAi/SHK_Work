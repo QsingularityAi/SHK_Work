{
 "cells": [
  {
   "cell_type": "code",
   "execution_count": 86,
   "metadata": {},
   "outputs": [],
   "source": [
    "import pandas as pd\n",
    "import seaborn as sns\n",
    "\n",
    "import warnings\n",
    "warnings.filterwarnings('ignore')\n",
    "\n",
    "from sklearn.datasets import make_gaussian_quantiles\n",
    "from sklearn.model_selection import train_test_split\n",
    "\n",
    "from interpret import show\n",
    "from interpret.glassbox import ExplainableBoostingClassifier, ClassificationTree, LogisticRegression,DecisionListClassifier\n",
    "\n"
   ]
  },
  {
   "cell_type": "markdown",
   "metadata": {},
   "source": [
    "### Setup a classification experiment"
   ]
  },
  {
   "cell_type": "code",
   "execution_count": 87,
   "metadata": {},
   "outputs": [],
   "source": [
    "X_1, y_1 = make_gaussian_quantiles(n_samples= 100,\n",
    "                                 n_features=2,\n",
    "                                 n_classes=2,\n",
    "                                 )\n",
    "\n",
    "# transform the dataset\n",
    "from imblearn.over_sampling import RandomOverSampler\n",
    "ros = RandomOverSampler(random_state=1)\n",
    "X1, y1 = ros.fit_resample(X_1, y_1)\n",
    "\n",
    "\n",
    "\n",
    "X1 = pd.DataFrame(X1,columns=['x','y'])\n",
    "y1 = pd.Series(y1)"
   ]
  },
  {
   "cell_type": "code",
   "execution_count": 88,
   "metadata": {},
   "outputs": [],
   "source": [
    "X_train,X_test,y_train,y_test=train_test_split(X1,y1,\n",
    "                                              test_size=0.25,\n",
    "                                              random_state=1)"
   ]
  },
  {
   "cell_type": "markdown",
   "metadata": {},
   "source": [
    "### Train the Explainable Boosting Machine (EBM), LogisticRegression, ClassificationTree, DecisionListClassifier"
   ]
  },
  {
   "cell_type": "code",
   "execution_count": 89,
   "metadata": {},
   "outputs": [
    {
     "data": {
      "text/plain": [
       "<interpret.glassbox.skoperules.DecisionListClassifier at 0x7ff2a5bae370>"
      ]
     },
     "execution_count": 89,
     "metadata": {},
     "output_type": "execute_result"
    }
   ],
   "source": [
    "ebm = ExplainableBoostingClassifier(random_state=1)\n",
    "lr = LogisticRegression(random_state=1)\n",
    "cTree = ClassificationTree(random_state=1)\n",
    "Dlist = DecisionListClassifier(random_state=1)\n",
    "ebm.fit(X_train, y_train)\n",
    "cTree.fit(X_train, y_train)\n",
    "lr.fit(X_train, y_train)\n",
    "Dlist.fit(X_train, y_train)"
   ]
  },
  {
   "cell_type": "markdown",
   "metadata": {},
   "source": [
    "### Global Explanations: What the model learned overall"
   ]
  },
  {
   "cell_type": "code",
   "execution_count": 90,
   "metadata": {},
   "outputs": [
    {
     "data": {
      "text/html": [
       "<!-- http://127.0.0.1:7001/140680139974784/ -->\n",
       "<iframe src=\"http://127.0.0.1:7001/140680139974784/\" width=100% height=800 frameBorder=\"0\"></iframe>"
      ]
     },
     "metadata": {},
     "output_type": "display_data"
    },
    {
     "data": {
      "text/html": [
       "<!-- http://127.0.0.1:7001/140680151876992/ -->\n",
       "<iframe src=\"http://127.0.0.1:7001/140680151876992/\" width=100% height=800 frameBorder=\"0\"></iframe>"
      ]
     },
     "metadata": {},
     "output_type": "display_data"
    },
    {
     "data": {
      "text/html": [
       "<!-- http://127.0.0.1:7001/140680140074000/ -->\n",
       "<iframe src=\"http://127.0.0.1:7001/140680140074000/\" width=100% height=800 frameBorder=\"0\"></iframe>"
      ]
     },
     "metadata": {},
     "output_type": "display_data"
    },
    {
     "data": {
      "text/html": [
       "<!-- http://127.0.0.1:7001/140680149700672/ -->\n",
       "<iframe src=\"http://127.0.0.1:7001/140680149700672/\" width=100% height=800 frameBorder=\"0\"></iframe>"
      ]
     },
     "metadata": {},
     "output_type": "display_data"
    }
   ],
   "source": [
    "ebm_global = ebm.explain_global(name='EBM')\n",
    "ctree_global = cTree.explain_global(name='Classification Tree')\n",
    "lr_global = lr.explain_global(name='Logistic Regression')\n",
    "Dlist_global = Dlist.explain_global(name='DecisionListClassifier')\n",
    "show(ebm_global)\n",
    "show(ctree_global)\n",
    "show(lr_global)\n",
    "show(Dlist_global)"
   ]
  },
  {
   "cell_type": "markdown",
   "metadata": {},
   "source": [
    "### Local Explanations: How an individual prediction was made"
   ]
  },
  {
   "cell_type": "code",
   "execution_count": 91,
   "metadata": {},
   "outputs": [
    {
     "data": {
      "text/html": [
       "<!-- http://127.0.0.1:7001/140679991195392/ -->\n",
       "<iframe src=\"http://127.0.0.1:7001/140679991195392/\" width=100% height=800 frameBorder=\"0\"></iframe>"
      ]
     },
     "metadata": {},
     "output_type": "display_data"
    },
    {
     "data": {
      "text/html": [
       "<!-- http://127.0.0.1:7001/140680040619408/ -->\n",
       "<iframe src=\"http://127.0.0.1:7001/140680040619408/\" width=100% height=800 frameBorder=\"0\"></iframe>"
      ]
     },
     "metadata": {},
     "output_type": "display_data"
    },
    {
     "data": {
      "text/html": [
       "<!-- http://127.0.0.1:7001/140680146096720/ -->\n",
       "<iframe src=\"http://127.0.0.1:7001/140680146096720/\" width=100% height=800 frameBorder=\"0\"></iframe>"
      ]
     },
     "metadata": {},
     "output_type": "display_data"
    },
    {
     "data": {
      "text/html": [
       "<!-- http://127.0.0.1:7001/140680151460592/ -->\n",
       "<iframe src=\"http://127.0.0.1:7001/140680151460592/\" width=100% height=800 frameBorder=\"0\"></iframe>"
      ]
     },
     "metadata": {},
     "output_type": "display_data"
    }
   ],
   "source": [
    "ebm_local = ebm.explain_local(X_test, y_test, name='EBM')\n",
    "cTree_local = cTree.explain_local(X_test, y_test, name='Classification Tree')\n",
    "lr_local = lr.explain_local(X_test, y_test, name='Logistic Regression')\n",
    "Dlist_local = Dlist.explain_local(X_test, y_test, name='DecisionListClassifier')\n",
    "show(ebm_local)\n",
    "show(cTree_local)\n",
    "show(lr_local)\n",
    "show(Dlist_local)"
   ]
  },
  {
   "cell_type": "markdown",
   "metadata": {},
   "source": [
    "### Explore the Train dataset"
   ]
  },
  {
   "cell_type": "code",
   "execution_count": 92,
   "metadata": {},
   "outputs": [
    {
     "data": {
      "text/html": [
       "<!-- http://127.0.0.1:7001/140680040657872/ -->\n",
       "<iframe src=\"http://127.0.0.1:7001/140680040657872/\" width=100% height=800 frameBorder=\"0\"></iframe>"
      ]
     },
     "metadata": {},
     "output_type": "display_data"
    }
   ],
   "source": [
    "from interpret import show\n",
    "from interpret.data import ClassHistogram\n",
    "\n",
    "hist = ClassHistogram().explain_data(X_train, y_train, name = 'Train Data')\n",
    "show(hist)"
   ]
  },
  {
   "cell_type": "markdown",
   "metadata": {},
   "source": [
    "### Evaluate performance"
   ]
  },
  {
   "cell_type": "code",
   "execution_count": 93,
   "metadata": {},
   "outputs": [],
   "source": [
    "from interpret.perf import ROC"
   ]
  },
  {
   "cell_type": "code",
   "execution_count": 94,
   "metadata": {},
   "outputs": [
    {
     "data": {
      "text/html": [
       "<!-- http://127.0.0.1:7001/140680150437312/ -->\n",
       "<iframe src=\"http://127.0.0.1:7001/140680150437312/\" width=100% height=800 frameBorder=\"0\"></iframe>"
      ]
     },
     "metadata": {},
     "output_type": "display_data"
    },
    {
     "data": {
      "text/html": [
       "<!-- http://127.0.0.1:7001/140680152015968/ -->\n",
       "<iframe src=\"http://127.0.0.1:7001/140680152015968/\" width=100% height=800 frameBorder=\"0\"></iframe>"
      ]
     },
     "metadata": {},
     "output_type": "display_data"
    },
    {
     "data": {
      "text/html": [
       "<!-- http://127.0.0.1:7001/140680150366768/ -->\n",
       "<iframe src=\"http://127.0.0.1:7001/140680150366768/\" width=100% height=800 frameBorder=\"0\"></iframe>"
      ]
     },
     "metadata": {},
     "output_type": "display_data"
    },
    {
     "data": {
      "text/html": [
       "<!-- http://127.0.0.1:7001/140680147348928/ -->\n",
       "<iframe src=\"http://127.0.0.1:7001/140680147348928/\" width=100% height=800 frameBorder=\"0\"></iframe>"
      ]
     },
     "metadata": {},
     "output_type": "display_data"
    }
   ],
   "source": [
    "\n",
    "ebm_perf = ROC(ebm.predict_proba).explain_perf(X_test, y_test, name='EBM')\n",
    "lr_perf = ROC(lr.predict_proba).explain_perf(X_test, y_test, name='Logistic Regression')\n",
    "ctree_perf = ROC(cTree.predict_proba).explain_perf(X_test, y_test, name='Classification Tree')\n",
    "dlist_perf = ROC(Dlist.predict_proba).explain_perf(X_test, y_test, name='DecisionListClassifier')\n",
    "show(lr_perf)\n",
    "show(ctree_perf)\n",
    "show(ebm_perf)\n",
    "show(dlist_perf)"
   ]
  },
  {
   "cell_type": "code",
   "execution_count": 95,
   "metadata": {},
   "outputs": [
    {
     "data": {
      "text/html": [
       "<!-- http://127.0.0.1:7001/140679991081664/ -->\n",
       "<a href=\"http://127.0.0.1:7001/140679991081664/\" target=\"_new\">Open in new window</a><iframe src=\"http://127.0.0.1:7001/140679991081664/\" width=100% height=800 frameBorder=\"0\"></iframe>"
      ]
     },
     "metadata": {},
     "output_type": "display_data"
    }
   ],
   "source": [
    "show([hist, lr_global, lr_perf, lr_local, ctree_global, ctree_perf, cTree_local, ebm_global, ebm_perf, ebm_local, Dlist_global, dlist_perf, Dlist_local], share_tables=True)"
   ]
  }
 ],
 "metadata": {
  "interpreter": {
   "hash": "40d3a090f54c6569ab1632332b64b2c03c39dcf918b08424e98f38b5ae0af88f"
  },
  "kernelspec": {
   "display_name": "Python 3.9.7 ('base')",
   "language": "python",
   "name": "python3"
  },
  "language_info": {
   "codemirror_mode": {
    "name": "ipython",
    "version": 3
   },
   "file_extension": ".py",
   "mimetype": "text/x-python",
   "name": "python",
   "nbconvert_exporter": "python",
   "pygments_lexer": "ipython3",
   "version": "3.9.7"
  },
  "orig_nbformat": 4
 },
 "nbformat": 4,
 "nbformat_minor": 2
}
